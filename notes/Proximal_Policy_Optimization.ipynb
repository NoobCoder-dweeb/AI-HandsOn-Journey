{
  "metadata": {
    "kernelspec": {
      "language": "python",
      "display_name": "Python 3",
      "name": "python3"
    },
    "language_info": {
      "name": "python",
      "version": "3.11.11",
      "mimetype": "text/x-python",
      "codemirror_mode": {
        "name": "ipython",
        "version": 3
      },
      "pygments_lexer": "ipython3",
      "nbconvert_exporter": "python",
      "file_extension": ".py"
    },
    "kaggle": {
      "accelerator": "nvidiaTeslaT4",
      "dataSources": [],
      "dockerImageVersionId": 31011,
      "isInternetEnabled": true,
      "language": "python",
      "sourceType": "notebook",
      "isGpuEnabled": true
    },
    "colab": {
      "name": "Proximal Policy Optimization",
      "provenance": [],
      "include_colab_link": true
    }
  },
  "nbformat_minor": 0,
  "nbformat": 4,
  "cells": [
    {
      "cell_type": "markdown",
      "metadata": {
        "id": "view-in-github",
        "colab_type": "text"
      },
      "source": [
        "<a href=\"https://colab.research.google.com/github/NoobCoder-dweeb/AI-HandsOn-Journey/blob/main/notes/Proximal_Policy_Optimization.ipynb\" target=\"_parent\"><img src=\"https://colab.research.google.com/assets/colab-badge.svg\" alt=\"Open In Colab\"/></a>"
      ]
    },
    {
      "cell_type": "code",
      "source": [
        "# This Python 3 environment comes with many helpful analytics libraries installed\n",
        "# It is defined by the kaggle/python Docker image: https://github.com/kaggle/docker-python\n",
        "# For example, here's several helpful packages to load\n",
        "\n",
        "import numpy as np # linear algebra\n",
        "import pandas as pd # data processing, CSV file I/O (e.g. pd.read_csv)\n",
        "\n",
        "# Input data files are available in the read-only \"../input/\" directory\n",
        "# For example, running this (by clicking run or pressing Shift+Enter) will list all files under the input directory\n",
        "\n",
        "import os\n",
        "for dirname, _, filenames in os.walk('/kaggle/input'):\n",
        "    for filename in filenames:\n",
        "        print(os.path.join(dirname, filename))\n",
        "\n",
        "# You can write up to 20GB to the current directory (/kaggle/working/) that gets preserved as output when you create a version using \"Save & Run All\"\n",
        "# You can also write temporary files to /kaggle/temp/, but they won't be saved outside of the current session"
      ],
      "metadata": {
        "_uuid": "8f2839f25d086af736a60e9eeb907d3b93b6e0e5",
        "_cell_guid": "b1076dfc-b9ad-4769-8c92-a6c4dae69d19",
        "trusted": true,
        "execution": {
          "iopub.status.busy": "2025-04-14T11:54:35.301793Z",
          "iopub.execute_input": "2025-04-14T11:54:35.302055Z",
          "iopub.status.idle": "2025-04-14T11:54:37.287968Z",
          "shell.execute_reply.started": "2025-04-14T11:54:35.302027Z",
          "shell.execute_reply": "2025-04-14T11:54:37.287199Z"
        },
        "id": "l4N0A5GKKqWO"
      },
      "outputs": [],
      "execution_count": null
    },
    {
      "cell_type": "code",
      "source": [
        "!pip install -q torch gymnasium lightning"
      ],
      "metadata": {
        "trusted": true,
        "execution": {
          "iopub.status.busy": "2025-04-14T11:55:52.536892Z",
          "iopub.execute_input": "2025-04-14T11:55:52.537591Z",
          "iopub.status.idle": "2025-04-14T11:55:55.988673Z",
          "shell.execute_reply.started": "2025-04-14T11:55:52.537551Z",
          "shell.execute_reply": "2025-04-14T11:55:55.987743Z"
        },
        "id": "3E9Nk2ZuKqWP"
      },
      "outputs": [],
      "execution_count": null
    },
    {
      "cell_type": "code",
      "source": [
        "import pytorch_lightning as pl\n",
        "from pytorch_lightning.loggers import CSVLogger\n",
        "import torch\n",
        "import torch.nn as nn\n",
        "import torch.nn.functional as F\n",
        "from torch.optim import Adam, SGD\n",
        "from torch.utils.data import TensorDataset, DataLoader, Dataset\n",
        "from torch.distributions import Categorical\n",
        "import numpy as np\n",
        "import matplotlib.pyplot as plt\n",
        "import seaborn as sns\n",
        "import gymnasium as gym\n",
        "from collections import deque"
      ],
      "metadata": {
        "trusted": true,
        "execution": {
          "iopub.status.busy": "2025-04-14T11:56:05.927933Z",
          "iopub.execute_input": "2025-04-14T11:56:05.92879Z",
          "iopub.status.idle": "2025-04-14T11:56:19.230517Z",
          "shell.execute_reply.started": "2025-04-14T11:56:05.92876Z",
          "shell.execute_reply": "2025-04-14T11:56:19.22989Z"
        },
        "id": "qCh4nO9iKqWQ",
        "outputId": "3db1a7dd-c2b0-4456-84a0-b57ec75e2816"
      },
      "outputs": [
        {
          "name": "stderr",
          "text": "/usr/local/lib/python3.11/dist-packages/gymnasium/envs/registration.py:596: UserWarning: \u001b[33mWARN: plugin: shimmy.registration:register_gymnasium_envs raised Traceback (most recent call last):\n  File \"/usr/local/lib/python3.11/dist-packages/gymnasium/envs/registration.py\", line 594, in load_plugin_envs\n    fn()\n  File \"/usr/local/lib/python3.11/dist-packages/shimmy/registration.py\", line 304, in register_gymnasium_envs\n    _register_atari_envs()\n  File \"/usr/local/lib/python3.11/dist-packages/shimmy/registration.py\", line 205, in _register_atari_envs\n    import ale_py\n  File \"/usr/local/lib/python3.11/dist-packages/ale_py/__init__.py\", line 68, in <module>\n    register_v0_v4_envs()\n  File \"/usr/local/lib/python3.11/dist-packages/ale_py/registration.py\", line 178, in register_v0_v4_envs\n    _register_rom_configs(legacy_games, obs_types, versions)\n  File \"/usr/local/lib/python3.11/dist-packages/ale_py/registration.py\", line 63, in _register_rom_configs\n    gymnasium.register(\n    ^^^^^^^^^^^^^^^^^^\nAttributeError: partially initialized module 'gymnasium' has no attribute 'register' (most likely due to a circular import)\n\u001b[0m\n  logger.warn(f\"plugin: {plugin.value} raised {traceback.format_exc()}\")\n",
          "output_type": "stream"
        }
      ],
      "execution_count": null
    },
    {
      "cell_type": "code",
      "source": [
        "# env_train = gym.make(\"CartPole-v1\")\n",
        "# env_test = gym.make(\"CartPole-v1\")\n",
        "from torch.cuda.amp import autocast, GradScaler\n",
        "\n",
        "device = \"cuda:0\" if torch.cuda.is_available() else \"cpu\"\n",
        "\n",
        "class TrajectoryDataset(Dataset):\n",
        "    def __init__(self, states, actions, returns, advantages, old_policy_dist):\n",
        "        self.states = states\n",
        "        self.actions = actions\n",
        "        self.returns = returns\n",
        "        self.advantages = advantages\n",
        "        self.old_policy_dist = old_policy_dist\n",
        "\n",
        "    def __len__(self):\n",
        "        return len(self.states)\n",
        "\n",
        "    def __getitem__(self, idx):\n",
        "        return (\n",
        "            self.states[idx],\n",
        "            self.actions[idx],\n",
        "            self.returns[idx],\n",
        "            self.advantages[idx],\n",
        "            self.old_policy_dist[idx],\n",
        "        )\n",
        "\n",
        "class ActorCritic(nn.Module):\n",
        "    def __init__(self, observation_dim, action_dim):\n",
        "        super(ActorCritic, self).__init__()\n",
        "        self.shared = nn.Sequential(\n",
        "            nn.Linear(observation_dim, 64),\n",
        "            nn.ReLU(),\n",
        "        )\n",
        "\n",
        "        self.actor = nn.Sequential(\n",
        "            nn.Linear(64,64),\n",
        "            nn.ReLU(),\n",
        "            nn.Linear(64,action_dim),\n",
        "            nn.Softmax(dim=-1)\n",
        "        )\n",
        "        self.critic = nn.Sequential(\n",
        "            nn.Linear(64,64),\n",
        "            nn.ReLU(),\n",
        "            nn.Linear(64,1),\n",
        "        )\n",
        "    def forward(self, x):\n",
        "        x = self.shared(x)\n",
        "        return self.actor(x), self.critic(x)\n",
        "\n",
        "class PPOAgent(pl.LightningModule):\n",
        "    def __init__(\n",
        "        self,\n",
        "        env_name=\"CartPole-v1\",\n",
        "        gamma=0.99,\n",
        "        clip_eps=.2,\n",
        "        lr=3e-4,\n",
        "        batch_size=2048,\n",
        "        epochs=10,\n",
        "    ):\n",
        "        super().__init__()\n",
        "        self.env = gym.make(\"CartPole-v1\")\n",
        "        self.observation_dim = self.env.observation_space.shape[0]\n",
        "        self.action_dim = self.env.action_space.n\n",
        "\n",
        "        self.device_ = \"cuda:0\" if torch.cuda.is_available() else \"cpu\"\n",
        "        self.model = ActorCritic(self.observation_dim, self.action_dim).to(self.device_)\n",
        "        self.gamma = gamma\n",
        "        self.clip_eps = clip_eps\n",
        "        self.lr = lr\n",
        "        self.batch_size = batch_size\n",
        "        self.epochs = epochs\n",
        "        self.memory = []\n",
        "        self.dataset = None\n",
        "\n",
        "    def setup(self, stage=None):\n",
        "        self.collect_trajectory()\n",
        "\n",
        "    def collect_trajectory(self):\n",
        "        obs, _ = self.env.reset()\n",
        "        self.memory = []\n",
        "        episode_rewards = []\n",
        "        ep_reward = 0\n",
        "        done = False\n",
        "        while len(self.memory) < self.batch_size:\n",
        "            obs_tensor = torch.tensor(obs, dtype=torch.float32).unsqueeze(0).to(self.device_)\n",
        "            with torch.no_grad():\n",
        "                probs, value = self.model(obs_tensor)\n",
        "            old_policy_dist = Categorical(probs)\n",
        "            action = old_policy_dist.sample().item()\n",
        "            next_obs, reward, terminated, truncated, _ = self.env.step(action)\n",
        "            done = terminated or truncated\n",
        "            action_tensor = torch.tensor([action], dtype=torch.int64).to(self.device_)\n",
        "            log_prob = old_policy_dist.log_prob(action_tensor)\n",
        "\n",
        "            self.memory.append((obs, action, reward, value.item(), log_prob.item()))\n",
        "            ep_reward += reward\n",
        "\n",
        "            obs = next_obs\n",
        "            if done:\n",
        "                episode_rewards.append(ep_reward)\n",
        "                ep_reward = 0\n",
        "                obs, _ = self.env.reset()\n",
        "        # store episode returns\n",
        "        self.episode_returns = episode_rewards\n",
        "\n",
        "        # after collecting memory\n",
        "        states, actions, rewards, values, old_policy_dist = zip(*self.memory)\n",
        "        states = torch.tensor(states, dtype=torch.float32).to(self.device_)\n",
        "        actions = torch.tensor(actions).to(self.device_)\n",
        "        returns = torch.tensor(self.compute_rewards(rewards), dtype=torch.float32).to(self.device_)\n",
        "        values = torch.tensor(values, dtype=torch.float32).to(self.device_)\n",
        "        old_policy_dist = torch.tensor(old_policy_dist, dtype=torch.float32).to(self.device_)\n",
        "        advantages = returns - values\n",
        "\n",
        "        self.dataset = TrajectoryDataset(states, actions, returns, advantages, old_policy_dist)\n",
        "        self.memory.clear()\n",
        "\n",
        "    def compute_rewards(self, rewards):\n",
        "        returns = []\n",
        "        R = 0\n",
        "        for r in reversed(rewards):\n",
        "            R = r + self.gamma * R\n",
        "            returns.insert(0, R)\n",
        "        return returns\n",
        "\n",
        "    def training_step(self, batch, batch_idx):\n",
        "        states, actions, returns, advantages, old_policy_dist = batch\n",
        "        states, actions, returns, advantages, old_policy_dist = states.to(self.device_), \\\n",
        "                                                                actions.to(self.device_), \\\n",
        "                                                                returns.to(self.device_), \\\n",
        "                                                                advantages.to(self.device_), \\\n",
        "                                                                old_policy_dist.to(self.device_)\n",
        "\n",
        "        with torch.amp.autocast(device_type=\"cuda\", dtype=torch.float16): # enable mixed precision\n",
        "            probs, values_new = self.model(states)\n",
        "            dist = Categorical(probs)\n",
        "            new_policy_dist = dist.log_prob(actions)\n",
        "\n",
        "            ratio = (new_policy_dist - old_policy_dist).exp()\n",
        "            surr1 = ratio * advantages\n",
        "            surr2 = torch.clamp(ratio, 1 - self.clip_eps, 1+self.clip_eps)*advantages\n",
        "            actor_loss = -torch.min(surr1, surr2).mean()\n",
        "            critic_loss = (returns-values_new.squeeze()).pow(2).mean()\n",
        "\n",
        "            loss = actor_loss + 0.5 * critic_loss\n",
        "\n",
        "        self.log(\"train_loss\", loss)\n",
        "        return loss\n",
        "\n",
        "    def configure_optimizers(self):\n",
        "        self.optimizer = Adam(self.model.parameters(), lr=self.lr)\n",
        "        return self.optimizer\n",
        "\n",
        "    def train_dataloader(self):\n",
        "        if self.dataset is None:\n",
        "            self.collect_trajectory()\n",
        "        batch_size = 64 if self.device_ == \"cpu\" else 256\n",
        "        return DataLoader(self.dataset, batch_size=batch_size, shuffle=True, num_workers=0)\n",
        "\n",
        "    # def on_train_epoch_end(self):\n",
        "    #     if hasattr(self, \"episode_returns\"):\n",
        "    #         avg_return = np.mean(self.episode_returns)\n",
        "    #         self.log(\"avg_return\", avg_return, prog_bar=True, on_epoch=True)"
      ],
      "metadata": {
        "trusted": true,
        "execution": {
          "iopub.status.busy": "2025-04-14T11:56:19.231535Z",
          "iopub.execute_input": "2025-04-14T11:56:19.23192Z",
          "iopub.status.idle": "2025-04-14T11:56:19.285844Z",
          "shell.execute_reply.started": "2025-04-14T11:56:19.231902Z",
          "shell.execute_reply": "2025-04-14T11:56:19.285135Z"
        },
        "id": "vOc6lpAYKqWR"
      },
      "outputs": [],
      "execution_count": null
    },
    {
      "cell_type": "code",
      "source": [
        "!nproc"
      ],
      "metadata": {
        "trusted": true,
        "execution": {
          "iopub.status.busy": "2025-04-14T11:56:19.28665Z",
          "iopub.execute_input": "2025-04-14T11:56:19.286864Z",
          "iopub.status.idle": "2025-04-14T11:56:19.812211Z",
          "shell.execute_reply.started": "2025-04-14T11:56:19.28683Z",
          "shell.execute_reply": "2025-04-14T11:56:19.811225Z"
        },
        "id": "3_x3No3AKqWV",
        "outputId": "69191c49-ef6d-4b6f-a318-e770b1afea98"
      },
      "outputs": [
        {
          "name": "stdout",
          "text": "4\n",
          "output_type": "stream"
        }
      ],
      "execution_count": null
    },
    {
      "cell_type": "code",
      "source": [
        "logger = CSVLogger(\"lightning_logs\", name=\"ppo\")\n",
        "model = PPOAgent()\n",
        "trainer = pl.Trainer(max_epochs=200, log_every_n_steps=1, logger=logger, accelerator=\"gpu\", devices=1, precision=16)\n",
        "trainer.fit(model)"
      ],
      "metadata": {
        "trusted": true,
        "execution": {
          "iopub.status.busy": "2025-04-14T11:56:19.814226Z",
          "iopub.execute_input": "2025-04-14T11:56:19.814525Z",
          "iopub.status.idle": "2025-04-14T11:56:45.71436Z",
          "shell.execute_reply.started": "2025-04-14T11:56:19.814493Z",
          "shell.execute_reply": "2025-04-14T11:56:45.713867Z"
        },
        "id": "9IVQfwg4KqWW",
        "outputId": "0d2a8f3a-3c35-4610-a962-ca63a0898adb",
        "colab": {
          "referenced_widgets": [
            "274205327f0e41deb3e42471ab9b70e6"
          ]
        }
      },
      "outputs": [
        {
          "name": "stderr",
          "text": "/usr/local/lib/python3.11/dist-packages/lightning_fabric/connector.py:571: `precision=16` is supported for historical reasons but its usage is discouraged. Please set your precision to 16-mixed instead!\n/tmp/ipykernel_31/2118411533.py:108: UserWarning: Creating a tensor from a list of numpy.ndarrays is extremely slow. Please consider converting the list to a single numpy.ndarray with numpy.array() before converting to a tensor. (Triggered internally at ../torch/csrc/utils/tensor_new.cpp:278.)\n  states = torch.tensor(states, dtype=torch.float32).to(self.device_)\n/usr/local/lib/python3.11/dist-packages/pytorch_lightning/trainer/connectors/data_connector.py:425: The 'train_dataloader' does not have many workers which may be a bottleneck. Consider increasing the value of the `num_workers` argument` to `num_workers=3` in the `DataLoader` to improve performance.\n",
          "output_type": "stream"
        },
        {
          "output_type": "display_data",
          "data": {
            "text/plain": "Training: |          | 0/? [00:00<?, ?it/s]",
            "application/vnd.jupyter.widget-view+json": {
              "version_major": 2,
              "version_minor": 0,
              "model_id": "274205327f0e41deb3e42471ab9b70e6"
            }
          },
          "metadata": {}
        }
      ],
      "execution_count": null
    },
    {
      "cell_type": "code",
      "source": [
        "def get_metrics():\n",
        "    file = \"metrics.csv\"\n",
        "    path_name = \"lightning_logs/ppo\"\n",
        "    directory = os.listdir(path_name)\n",
        "    directory = sorted(directory, key=lambda x: int(x.split(\"_\")[-1])) # sort by latest version\n",
        "    latest_directory = directory[-1]\n",
        "\n",
        "    return os.path.join(path_name, latest_directory, file)\n"
      ],
      "metadata": {
        "trusted": true,
        "execution": {
          "iopub.status.busy": "2025-04-14T11:56:45.71503Z",
          "iopub.execute_input": "2025-04-14T11:56:45.715213Z",
          "iopub.status.idle": "2025-04-14T11:56:45.719717Z",
          "shell.execute_reply.started": "2025-04-14T11:56:45.715192Z",
          "shell.execute_reply": "2025-04-14T11:56:45.718978Z"
        },
        "id": "rVHpZoQFKqWX"
      },
      "outputs": [],
      "execution_count": null
    },
    {
      "cell_type": "code",
      "source": [
        "import pandas as pd\n",
        "filename = get_metrics()\n",
        "df = pd.read_csv(filename)\n",
        "# df = df[df[\"avg_return\"].notna()]\n",
        "df = df[df[\"train_loss\"].notna()]\n",
        "\n",
        "sns.set(style=\"whitegrid\")\n",
        "sns.lineplot(x=df[\"epoch\"], y=df[\"train_loss\"])\n",
        "plt.xlabel(\"Epoch\")\n",
        "plt.ylabel(\"Training Loss\")\n",
        "plt.suptitle(\"PPO Loss over Time\")\n",
        "\n",
        "# sns.lineplot(x=df[\"epoch\"], y=df[\"avg_return\"])\n",
        "# plt.xlabel(\"Epoch\")\n",
        "# plt.ylabel(\"Average Return\")\n",
        "# plt.suptitle(\"PPO Performance over Time\")\n",
        "plt.show()"
      ],
      "metadata": {
        "trusted": true,
        "execution": {
          "iopub.status.busy": "2025-04-14T11:56:45.720499Z",
          "iopub.execute_input": "2025-04-14T11:56:45.72134Z",
          "iopub.status.idle": "2025-04-14T11:56:49.132524Z",
          "shell.execute_reply.started": "2025-04-14T11:56:45.721315Z",
          "shell.execute_reply": "2025-04-14T11:56:49.131789Z"
        },
        "id": "onDGPLO9KqWY",
        "outputId": "d65bbe14-85ad-48fc-fc1d-a7c648e97720"
      },
      "outputs": [
        {
          "name": "stderr",
          "text": "/usr/local/lib/python3.11/dist-packages/seaborn/_oldcore.py:1498: DeprecationWarning: is_categorical_dtype is deprecated and will be removed in a future version. Use isinstance(dtype, pd.CategoricalDtype) instead\n  if pd.api.types.is_categorical_dtype(vector):\n/usr/local/lib/python3.11/dist-packages/seaborn/_oldcore.py:1498: DeprecationWarning: is_categorical_dtype is deprecated and will be removed in a future version. Use isinstance(dtype, pd.CategoricalDtype) instead\n  if pd.api.types.is_categorical_dtype(vector):\n/usr/local/lib/python3.11/dist-packages/seaborn/_oldcore.py:1119: FutureWarning: use_inf_as_na option is deprecated and will be removed in a future version. Convert inf values to NaN before operating instead.\n  with pd.option_context('mode.use_inf_as_na', True):\n/usr/local/lib/python3.11/dist-packages/seaborn/_oldcore.py:1119: FutureWarning: use_inf_as_na option is deprecated and will be removed in a future version. Convert inf values to NaN before operating instead.\n  with pd.option_context('mode.use_inf_as_na', True):\n/usr/local/lib/python3.11/dist-packages/seaborn/relational.py:441: DeprecationWarning: DataFrameGroupBy.apply operated on the grouping columns. This behavior is deprecated, and in a future version of pandas the grouping columns will be excluded from the operation. Either pass `include_groups=False` to exclude the groupings or explicitly select the grouping columns after groupby to silence this warning.\n  sub_data = grouped.apply(agg, other).reset_index()\n",
          "output_type": "stream"
        },
        {
          "output_type": "display_data",
          "data": {
            "text/plain": "<Figure size 640x480 with 1 Axes>",
            "image/png": "[encoded data removed]"
          },
          "metadata": {}
        }
      ],
      "execution_count": null
    },
    {
      "cell_type": "code",
      "source": [],
      "metadata": {
        "trusted": true,
        "id": "2INHu7CuKqWZ"
      },
      "outputs": [],
      "execution_count": null
    }
  ]
}