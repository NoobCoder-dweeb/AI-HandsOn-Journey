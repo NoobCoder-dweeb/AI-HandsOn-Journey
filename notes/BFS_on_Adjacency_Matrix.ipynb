{
  "nbformat": 4,
  "nbformat_minor": 0,
  "metadata": {
    "colab": {
      "provenance": [],
      "authorship_tag": "ABX9TyPLnXdGvWEECMy5BawTTFQ6",
      "include_colab_link": true
    },
    "kernelspec": {
      "name": "python3",
      "display_name": "Python 3"
    },
    "language_info": {
      "name": "python"
    }
  },
  "cells": [
    {
      "cell_type": "markdown",
      "metadata": {
        "id": "view-in-github",
        "colab_type": "text"
      },
      "source": [
        "<a href=\"https://colab.research.google.com/github/NoobCoder-dweeb/AI-HandsOn-Journey/blob/main/notes/BFS_on_Adjacency_Matrix.ipynb\" target=\"_parent\"><img src=\"https://colab.research.google.com/assets/colab-badge.svg\" alt=\"Open In Colab\"/></a>"
      ]
    },
    {
      "cell_type": "code",
      "execution_count": 1,
      "metadata": {
        "id": "mYGndM5U1oK1"
      },
      "outputs": [],
      "source": [
        "# Given input matrix\n",
        "grid= [ [ 1, 2, 3, 4 ],\n",
        "      [ 5, 6, 7, 8 ],\n",
        "      [ 9, 10, 11, 12 ],\n",
        "      [ 13, 14, 15, 16 ] ]"
      ]
    },
    {
      "cell_type": "code",
      "source": [
        "print(grid)"
      ],
      "metadata": {
        "colab": {
          "base_uri": "https://localhost:8080/"
        },
        "id": "VBzIN-3x11Lh",
        "outputId": "7bd1b068-dac4-431a-ed61-3c3f51aab84b"
      },
      "execution_count": 2,
      "outputs": [
        {
          "output_type": "stream",
          "name": "stdout",
          "text": [
            "[[1, 2, 3, 4], [5, 6, 7, 8], [9, 10, 11, 12], [13, 14, 15, 16]]\n"
          ]
        }
      ]
    },
    {
      "cell_type": "code",
      "source": [
        "def BFS(grid):\n",
        "  direction = [(0,1), (1,0), (0,-1), (-1,0)]\n",
        "  visited = [[False for i in range(len(grid[0]))] for j in range(len(grid))]\n",
        "  queue = [(0,0)]\n",
        "  visited[0][0] = True\n",
        "\n",
        "  # print(visited)\n",
        "  while queue:\n",
        "    # pop the current node\n",
        "    current = queue.pop(0)\n",
        "    x, y = current\n",
        "    print(grid[x][y], end = ' ')\n",
        "\n",
        "    # find the possible directions\n",
        "    for i in range(4):\n",
        "      adji = x + direction[i][0]\n",
        "      adjj = y + direction[i][1]\n",
        "\n",
        "      # check if the node is valid\n",
        "      if 0 <= adji < len(grid) and 0 <= adjj < len(grid[0]) and not visited[adji][adjj]:\n",
        "        queue.append((adji, adjj))\n",
        "        visited[adji][adjj] = True\n",
        "\n",
        "BFS(grid)"
      ],
      "metadata": {
        "colab": {
          "base_uri": "https://localhost:8080/"
        },
        "id": "gUxuHOM6124D",
        "outputId": "2985c329-1a5a-4393-a281-7f29a7004ee6"
      },
      "execution_count": 9,
      "outputs": [
        {
          "output_type": "stream",
          "name": "stdout",
          "text": [
            "1 2 5 3 6 9 4 7 10 13 8 11 14 12 15 16 "
          ]
        }
      ]
    },
    {
      "cell_type": "code",
      "source": [],
      "metadata": {
        "id": "EqALPPA22a28"
      },
      "execution_count": null,
      "outputs": []
    }
  ]
}